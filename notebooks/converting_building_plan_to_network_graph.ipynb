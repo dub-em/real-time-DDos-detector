{
 "cells": [
  {
   "cell_type": "code",
   "execution_count": 1,
   "metadata": {
    "id": "Pl65AfiWMvOd"
   },
   "outputs": [],
   "source": [
    "# Import necessary libraries for graph processing and visualization\n",
    "import math\n",
    "import networkx as nx\n",
    "import matplotlib.pyplot as plt\n",
    "from pyvis.network import Network\n",
    "from IPython.display import HTML"
   ]
  },
  {
   "cell_type": "code",
   "execution_count": 2,
   "metadata": {
    "id": "GUna2Z_ztkt_"
   },
   "outputs": [],
   "source": [
    "# Initialize an empty undirected graph\n",
    "bp = nx.Graph()"
   ]
  },
  {
   "cell_type": "code",
   "execution_count": 3,
   "metadata": {
    "id": "xEnz30EjzclB"
   },
   "outputs": [],
   "source": [
    "# Define office locations as nodes with coordinates\n",
    "ufficios = (\n",
    "    {'name': 'ufficio 1', 'x': 0, 'y': 0},\n",
    "    {'name': 'ufficio 2', 'x': 3, 'y': 0},\n",
    "    {'name': 'ufficio 3', 'x': 4, 'y': 0},\n",
    "    {'name': 'ufficio 4', 'x': 5, 'y': 0},\n",
    "    {'name': 'ufficio 5', 'x': 6, 'y': 0},\n",
    "    {'name': 'ufficio 6', 'x': 7, 'y': 0},\n",
    "    {'name': 'ufficio 7', 'x': 9, 'y': 0},\n",
    "    {'name': 'ufficio 8', 'x': 11, 'y': 0},\n",
    "    {'name': 'ufficio 9', 'x': 10, 'y': 3},\n",
    "    {'name': 'ufficio 10', 'x': 11, 'y': 3},\n",
    "    {'name': 'ufficio 11', 'x': 3, 'y': 8},\n",
    "    {'name': 'ufficio 12', 'x': 4, 'y': 8},\n",
    "    {'name': 'ufficio 13', 'x': 5, 'y': 8},\n",
    "    {'name': 'ufficio 14', 'x': 6, 'y': 8},\n",
    "    {'name': 'ufficio 15', 'x': 8, 'y': 8},\n",
    "    {'name': 'ufficio 16', 'x': 9, 'y': 8},\n",
    "    {'name': 'ufficio 17', 'x': 10, 'y': 8},\n",
    "    {'name': 'ufficio 18', 'x': 11, 'y': 8},\n",
    "    {'name': 'ufficio 19', 'x': 12, 'y': 8},\n",
    "    {'name': 'ufficio 20', 'x': 13, 'y': 8},\n",
    "    {'name': 'ufficio 21', 'x': 14, 'y': 8},\n",
    "    {'name': 'ufficio 22', 'x': 15, 'y': 8},\n",
    "    {'name': 'ufficio 23', 'x': 5, 'y': 11},\n",
    "    {'name': 'ufficio 24', 'x': 6, 'y': 11},\n",
    "    {'name': 'ufficio 25', 'x': 7, 'y': 11},\n",
    "    {'name': 'ufficio 26', 'x': 8, 'y': 11},\n",
    "    {'name': 'ufficio 27', 'x': 9, 'y': 11},\n",
    ")"
   ]
  },
  {
   "cell_type": "code",
   "execution_count": 4,
   "metadata": {
    "id": "ZRTlXUr53Jw1"
   },
   "outputs": [],
   "source": [
    "# Define laboratory locations as nodes with coordinates\n",
    "laboratorios = (\n",
    "    {'name': 'laboratorio 1', 'x': 1, 'y': 3},\n",
    "    {'name': 'laboratorio 2', 'x': 2.5, 'y': 3},\n",
    "    {'name': 'laboratorio 3', 'x': 5.5, 'y': 3},\n",
    "    {'name': 'laboratorio 4', 'x': 8.5, 'y': 3},\n",
    "    {'name': 'laboratorio 5', 'x': 12, 'y': 3},\n",
    "    {'name': 'laboratorio 6', 'x': 2.5, 'y': 11},\n",
    "    {'name': 'laboratorio 7', 'x': 4, 'y': 11},\n",
    "    {'name': 'laboratorio 8', 'x': 10, 'y': 11},\n",
    "    {'name': 'laboratorio 9', 'x': 11.5, 'y': 11},\n",
    "    {'name': 'laboratorio 10', 'x': 14.5, 'y': 11},\n",
    ")"
   ]
  },
  {
   "cell_type": "code",
   "execution_count": 5,
   "metadata": {
    "id": "HTONs5y34RZ3"
   },
   "outputs": [],
   "source": [
    "# Define hallway locations as nodes with coordinates\n",
    "hallways = (\n",
    "    {'name': 'hallway 1', 'x': 0, 'y': 1},\n",
    "    {'name': 'hallway 2', 'x': 1, 'y': 1},\n",
    "    {'name': 'hallway 3', 'x': 2, 'y': 1},\n",
    "    {'name': 'hallway 4', 'x': 3, 'y': 1},\n",
    "    {'name': 'hallway 5', 'x': 4, 'y': 1},\n",
    "    {'name': 'hallway 6', 'x': 5, 'y': 1},\n",
    "    {'name': 'hallway 7', 'x': 6, 'y': 1},\n",
    "    {'name': 'hallway 8', 'x': 7, 'y': 1},\n",
    "    {'name': 'hallway 9', 'x': 8, 'y': 1},\n",
    "    {'name': 'hallway 10', 'x': 9, 'y': 1},\n",
    "    {'name': 'hallway 11', 'x': 10, 'y': 1},\n",
    "    {'name': 'hallway 12', 'x': 10, 'y': 2},\n",
    "    {'name': 'hallway 13', 'x': 11, 'y': 2},\n",
    "    {'name': 'hallway 14', 'x': 12, 'y': 2},\n",
    "    {'name': 'hallway 15', 'x': 7, 'y': 3},\n",
    "    {'name': 'hallway 16', 'x': 0, 'y': 8},\n",
    "    {'name': 'hallway 17', 'x': 1, 'y': 8},\n",
    "    {'name': 'hallway 18', 'x': 1, 'y': 9},\n",
    "    {'name': 'hallway 19', 'x': 2, 'y': 9},\n",
    "    {'name': 'hallway 20', 'x': 3, 'y': 9},\n",
    "    {'name': 'hallway 21', 'x': 4, 'y': 9},\n",
    "    {'name': 'hallway 22', 'x': 5, 'y': 9},\n",
    "    {'name': 'hallway 23', 'x': 6, 'y': 9},\n",
    "    {'name': 'hallway 24', 'x': 7, 'y': 9},\n",
    "    {'name': 'hallway 25', 'x': 8, 'y': 9},\n",
    "    {'name': 'hallway 26', 'x': 9, 'y': 9},\n",
    "    {'name': 'hallway 27', 'x': 10, 'y': 9},\n",
    "    {'name': 'hallway 28', 'x': 11, 'y': 9},\n",
    "    {'name': 'hallway 29', 'x': 12, 'y': 9},\n",
    "    {'name': 'hallway 30', 'x': 13, 'y': 9},\n",
    "    {'name': 'hallway 31', 'x': 14, 'y': 9},\n",
    "    {'name': 'hallway 32', 'x': 15, 'y': 9},\n",
    ")"
   ]
  },
  {
   "cell_type": "code",
   "execution_count": 6,
   "metadata": {
    "id": "oVagrS719Y4K"
   },
   "outputs": [],
   "source": [
    "# Define office locations as nodes with coordinates\n",
    "others = (\n",
    "    {'name': 'aula 1', 'x': 2, 'y': 0},\n",
    "    {'name': 'aula 2', 'x': 2, 'y': 8},\n",
    "    {'name': 'wc 1', 'x': 10, 'y': 0},\n",
    "    {'name': 'wc 2', 'x': 13, 'y': 11},\n",
    "    {'name': 'unknown', 'x': 11, 'y': 1},\n",
    "    {'name': 'elevator', 'x': 4, 'y': 3},\n",
    "    {'name': 'sala riuniuni', 'x': 12, 'y': 0},\n",
    "    {'name': 'aula multi mediale', 'x': 8, 'y': 0},\n",
    "    {'name': 'tunnel', 'x': 7, 'y': 6},\n",
    ")"
   ]
  },
  {
   "cell_type": "code",
   "execution_count": 7,
   "metadata": {
    "colab": {
     "base_uri": "https://localhost:8080/"
    },
    "id": "cJXXH21m-bQQ",
    "outputId": "21fa9f2c-d0b9-4f3f-ae77-398cd741fb3b"
   },
   "outputs": [
    {
     "data": {
      "text/plain": [
       "78"
      ]
     },
     "execution_count": 7,
     "metadata": {},
     "output_type": "execute_result"
    }
   ],
   "source": [
    "sum((len(others), len(laboratorios), len(ufficios), len(hallways)))"
   ]
  },
  {
   "cell_type": "code",
   "execution_count": 8,
   "metadata": {
    "id": "mdRzR5tC-9AG"
   },
   "outputs": [],
   "source": [
    "# Add all nodes to list\n",
    "all_nodes = ufficios + laboratorios + hallways + others"
   ]
  },
  {
   "cell_type": "code",
   "execution_count": 9,
   "metadata": {
    "id": "qKl8VdcE-9Df"
   },
   "outputs": [],
   "source": [
    "# Create a scaling factor to increase size of coordinates\n",
    "scaling_factor = 100\n",
    "\n",
    "# Add the the nodes into the network graph\n",
    "# Give them different groups depending on if hallway or room just to have different colors on graph\n",
    "for node in all_nodes:\n",
    "    if 'hallway' in node['name'] or 'tunnel' in node['name']:\n",
    "        group = 'hallway'\n",
    "    else:\n",
    "        group = 'room'\n",
    "\n",
    "\n",
    "    bp.add_node(node['name'], x=node['x']*scaling_factor, y=node['y']*scaling_factor, group=group)"
   ]
  },
  {
   "cell_type": "code",
   "execution_count": 10,
   "metadata": {
    "colab": {
     "base_uri": "https://localhost:8080/"
    },
    "id": "M3sZvAlkXh6V",
    "outputId": "e6a3b26d-8fb2-436c-f998-32b0c1ea9baa"
   },
   "outputs": [
    {
     "data": {
      "text/plain": [
       "(78, 0)"
      ]
     },
     "execution_count": 10,
     "metadata": {},
     "output_type": "execute_result"
    }
   ],
   "source": [
    "len(bp.nodes), len(bp.edges)"
   ]
  },
  {
   "cell_type": "code",
   "execution_count": 11,
   "metadata": {
    "colab": {
     "base_uri": "https://localhost:8080/"
    },
    "id": "fJl1TxzW-9Ga",
    "outputId": "3fc898c9-3d19-4029-9f78-86bea153b9bf"
   },
   "outputs": [
    {
     "data": {
      "text/plain": [
       "NodeView(('ufficio 1', 'ufficio 2', 'ufficio 3', 'ufficio 4', 'ufficio 5', 'ufficio 6', 'ufficio 7', 'ufficio 8', 'ufficio 9', 'ufficio 10', 'ufficio 11', 'ufficio 12', 'ufficio 13', 'ufficio 14', 'ufficio 15', 'ufficio 16', 'ufficio 17', 'ufficio 18', 'ufficio 19', 'ufficio 20', 'ufficio 21', 'ufficio 22', 'ufficio 23', 'ufficio 24', 'ufficio 25', 'ufficio 26', 'ufficio 27', 'laboratorio 1', 'laboratorio 2', 'laboratorio 3', 'laboratorio 4', 'laboratorio 5', 'laboratorio 6', 'laboratorio 7', 'laboratorio 8', 'laboratorio 9', 'laboratorio 10', 'hallway 1', 'hallway 2', 'hallway 3', 'hallway 4', 'hallway 5', 'hallway 6', 'hallway 7', 'hallway 8', 'hallway 9', 'hallway 10', 'hallway 11', 'hallway 12', 'hallway 13', 'hallway 14', 'hallway 15', 'hallway 16', 'hallway 17', 'hallway 18', 'hallway 19', 'hallway 20', 'hallway 21', 'hallway 22', 'hallway 23', 'hallway 24', 'hallway 25', 'hallway 26', 'hallway 27', 'hallway 28', 'hallway 29', 'hallway 30', 'hallway 31', 'hallway 32', 'aula 1', 'aula 2', 'wc 1', 'wc 2', 'unknown', 'elevator', 'sala riuniuni', 'aula multi mediale', 'tunnel'))"
      ]
     },
     "execution_count": 11,
     "metadata": {},
     "output_type": "execute_result"
    }
   ],
   "source": [
    "bp.nodes"
   ]
  },
  {
   "cell_type": "code",
   "execution_count": 12,
   "metadata": {
    "id": "udEHMLE2NlMC"
   },
   "outputs": [],
   "source": [
    "def euclidean_distance(x1, y1, x2, y2):\n",
    "    \"\"\"\n",
    "    Calculate the Euclidean distance between two points in a 2D space.\n",
    "\n",
    "    Args:\n",
    "        x1 (float): X-coordinate of the first point.\n",
    "        y1 (float): Y-coordinate of the first point.\n",
    "        x2 (float): X-coordinate of the second point.\n",
    "        y2 (float): Y-coordinate of the second point.\n",
    "\n",
    "    Returns:\n",
    "        float: The Euclidean distance between the two points.\n",
    "    \"\"\"\n",
    "    return math.sqrt((x2 - x1)**2 + (y2 - y1)**2)"
   ]
  },
  {
   "cell_type": "code",
   "execution_count": 13,
   "metadata": {
    "id": "rHwGxebM2axK"
   },
   "outputs": [],
   "source": [
    "def get_weight(node_1, node_2, graph, scaling_factor=100):\n",
    "    \"\"\"\n",
    "    Compute the weight (distance) between two nodes in the graph.\n",
    "\n",
    "    Args:\n",
    "        node_1 (str or int): The first node.\n",
    "        node_2 (str or int): The second node.\n",
    "        graph (networkx.Graph): The graph containing the nodes.\n",
    "        scaling_factor (float, optional): A factor to scale the computed weight. Defaults to 100.\n",
    "\n",
    "    Returns:\n",
    "        float: The scaled Euclidean distance between the two nodes.\n",
    "    \"\"\"\n",
    "    weight = euclidean_distance(graph.nodes[node_1]['x'],\n",
    "                                graph.nodes[node_1]['y'],\n",
    "                                graph.nodes[node_2]['x'],\n",
    "                                graph.nodes[node_2]['y'])\n",
    "\n",
    "    return weight/scaling_factor"
   ]
  },
  {
   "cell_type": "code",
   "execution_count": 14,
   "metadata": {
    "id": "UCVZxTzpU1Ho"
   },
   "outputs": [],
   "source": [
    "def create_edges(source, targets, graph):\n",
    "    \"\"\"\n",
    "    Create edges between a source node and multiple target nodes in the graph.\n",
    "\n",
    "    Args:\n",
    "        source (str or int): The source node.\n",
    "        targets (list): A list of target nodes to connect to the source.\n",
    "        graph (networkx.Graph): The graph in which edges will be created.\n",
    "\n",
    "    Returns:\n",
    "        None\n",
    "    \"\"\"\n",
    "    for target in targets:\n",
    "        weight = get_weight(source, target, graph)\n",
    "        graph.add_edge(source, target, weight=weight, label=str(weight))"
   ]
  },
  {
   "cell_type": "markdown",
   "metadata": {
    "id": "ioJEc9t8PKLo"
   },
   "source": [
    "## Create Edges for each hallway "
   ]
  },
  {
   "cell_type": "code",
   "execution_count": 15,
   "metadata": {
    "id": "XtbcROkzPJBk"
   },
   "outputs": [],
   "source": [
    "# hallway 1\n",
    "targets = ('hallway 16', 'ufficio 1', 'hallway 2')\n",
    "source = 'hallway 1'\n",
    "\n",
    "create_edges(source, targets, bp)"
   ]
  },
  {
   "cell_type": "code",
   "execution_count": 16,
   "metadata": {
    "id": "R4_2iTvZPOJN"
   },
   "outputs": [],
   "source": [
    "# hallway 2\n",
    "targets = ('laboratorio 1', 'hallway 3', 'hallway 1')\n",
    "source = 'hallway 2'\n",
    "\n",
    "create_edges(source, targets, bp)"
   ]
  },
  {
   "cell_type": "code",
   "execution_count": 17,
   "metadata": {
    "id": "Bw-48UlfPOSo"
   },
   "outputs": [],
   "source": [
    "# hallway 3\n",
    "targets = ('aula 1', 'hallway 4', 'hallway 2')\n",
    "source = 'hallway 3'\n",
    "\n",
    "create_edges(source, targets, bp)"
   ]
  },
  {
   "cell_type": "code",
   "execution_count": 18,
   "metadata": {
    "id": "1FWh99HUQqZM"
   },
   "outputs": [],
   "source": [
    "# hallway 4\n",
    "targets = ('ufficio 2', 'hallway 3', 'hallway 5')\n",
    "source = 'hallway 4'\n",
    "\n",
    "create_edges(source, targets, bp)"
   ]
  },
  {
   "cell_type": "code",
   "execution_count": 19,
   "metadata": {
    "id": "BuRcapZL3Inp"
   },
   "outputs": [],
   "source": [
    "# hallway 5\n",
    "targets = ('hallway 4', 'hallway 6', 'ufficio 3', 'elevator')\n",
    "source = 'hallway 5'\n",
    "\n",
    "create_edges(source, targets, bp)"
   ]
  },
  {
   "cell_type": "code",
   "execution_count": 20,
   "metadata": {
    "id": "8GzEZvQkQqbm"
   },
   "outputs": [],
   "source": [
    "# hallway 6\n",
    "targets = ('hallway 5', 'hallway 7', 'ufficio 4')\n",
    "source = 'hallway 6'\n",
    "\n",
    "create_edges(source, targets, bp)"
   ]
  },
  {
   "cell_type": "code",
   "execution_count": 21,
   "metadata": {
    "id": "vWHJl6737MCA"
   },
   "outputs": [],
   "source": [
    "# hallway 7\n",
    "targets = ('hallway 6', 'hallway 8', 'ufficio 5')\n",
    "source = 'hallway 7'\n",
    "\n",
    "create_edges(source, targets, bp)"
   ]
  },
  {
   "cell_type": "code",
   "execution_count": 22,
   "metadata": {
    "id": "MKXyPj-J7K4N"
   },
   "outputs": [],
   "source": [
    "# hallway 8\n",
    "targets = ('hallway 7', 'hallway 9', 'hallway 15', 'ufficio 6')\n",
    "source = 'hallway 8'\n",
    "\n",
    "create_edges(source, targets, bp)"
   ]
  },
  {
   "cell_type": "code",
   "execution_count": 23,
   "metadata": {
    "id": "mJbClORk7K7Z"
   },
   "outputs": [],
   "source": [
    "# hallway 9\n",
    "targets = ('hallway 8', 'hallway 10', 'aula multi mediale')\n",
    "source = 'hallway 9'\n",
    "\n",
    "create_edges(source, targets, bp)"
   ]
  },
  {
   "cell_type": "code",
   "execution_count": 24,
   "metadata": {
    "id": "hhUlz_F47K-C"
   },
   "outputs": [],
   "source": [
    "# hallway 10\n",
    "targets = ('hallway 9', 'hallway 11', 'ufficio 7')\n",
    "source = 'hallway 10'\n",
    "\n",
    "create_edges(source, targets, bp)"
   ]
  },
  {
   "cell_type": "code",
   "execution_count": 25,
   "metadata": {
    "id": "2j7kDCNu7LA1"
   },
   "outputs": [],
   "source": [
    "# hallway 11\n",
    "targets = ('hallway 10', 'hallway 12', 'wc 1')\n",
    "source = 'hallway 11'\n",
    "\n",
    "create_edges(source, targets, bp)"
   ]
  },
  {
   "cell_type": "code",
   "execution_count": 26,
   "metadata": {
    "id": "u_UNkHml_moZ"
   },
   "outputs": [],
   "source": [
    "# hallway 12\n",
    "targets = ('hallway 11', 'hallway 13', 'ufficio 9')\n",
    "source = 'hallway 12'\n",
    "\n",
    "create_edges(source, targets, bp)"
   ]
  },
  {
   "cell_type": "code",
   "execution_count": 27,
   "metadata": {
    "id": "cTkOscVV_msd"
   },
   "outputs": [],
   "source": [
    "# hallway 13\n",
    "\n",
    "targets = ('hallway 12', 'hallway 14', 'ufficio 10', 'unknown')\n",
    "source = 'hallway 13'\n",
    "\n",
    "create_edges(source, targets, bp)"
   ]
  },
  {
   "cell_type": "code",
   "execution_count": 28,
   "metadata": {
    "id": "U4KJuHmo_mus"
   },
   "outputs": [],
   "source": [
    "# hallway 14\n",
    "targets = ('sala riuniuni', 'laboratorio 5', 'hallway 13')\n",
    "source = 'hallway 14'\n",
    "\n",
    "create_edges(source, targets, bp)"
   ]
  },
  {
   "cell_type": "code",
   "execution_count": 29,
   "metadata": {
    "id": "9hBahqzs_myF"
   },
   "outputs": [],
   "source": [
    "# hallway 15\n",
    "targets = ('hallway 8', 'laboratorio 3', 'laboratorio 4', 'tunnel')\n",
    "source = 'hallway 15'\n",
    "\n",
    "create_edges(source, targets, bp)"
   ]
  },
  {
   "cell_type": "code",
   "execution_count": 30,
   "metadata": {
    "id": "8nBF16FA_m0x"
   },
   "outputs": [],
   "source": [
    "# hallway 16\n",
    "targets = ('hallway 1', 'hallway 17')\n",
    "source = 'hallway 16'\n",
    "\n",
    "create_edges(source, targets, bp)"
   ]
  },
  {
   "cell_type": "code",
   "execution_count": 31,
   "metadata": {
    "id": "tjsj7va7QqiR"
   },
   "outputs": [],
   "source": [
    "# hallway 17\n",
    "targets = ('hallway 16', 'hallway 18')\n",
    "source = 'hallway 17'\n",
    "\n",
    "create_edges(source, targets, bp)"
   ]
  },
  {
   "cell_type": "code",
   "execution_count": 32,
   "metadata": {
    "id": "N_WHbvZv2GbS"
   },
   "outputs": [],
   "source": [
    "# hallway 18\n",
    "targets = ('hallway 17', 'hallway 19')\n",
    "source = 'hallway 18'\n",
    "\n",
    "create_edges(source, targets, bp)"
   ]
  },
  {
   "cell_type": "code",
   "execution_count": 33,
   "metadata": {
    "id": "zfVuQsnk2GeD"
   },
   "outputs": [],
   "source": [
    "# hallway 19\n",
    "targets = ('hallway 18', 'hallway 20', 'aula 2', 'laboratorio 6')\n",
    "source = 'hallway 19'\n",
    "\n",
    "create_edges(source, targets, bp)"
   ]
  },
  {
   "cell_type": "code",
   "execution_count": 34,
   "metadata": {
    "id": "3JSJE-x32GjJ"
   },
   "outputs": [],
   "source": [
    "# hallway 20\n",
    "targets = ('hallway 19', 'hallway 21', 'ufficio 11')\n",
    "source = 'hallway 20'\n",
    "\n",
    "create_edges(source, targets, bp)"
   ]
  },
  {
   "cell_type": "code",
   "execution_count": 35,
   "metadata": {
    "id": "vLUaYTEO2Gm6"
   },
   "outputs": [],
   "source": [
    "# hallway 21\n",
    "targets = ('hallway 20', 'hallway 22', 'ufficio 12', 'laboratorio 7')\n",
    "source = 'hallway 21'\n",
    "\n",
    "create_edges(source, targets, bp)"
   ]
  },
  {
   "cell_type": "code",
   "execution_count": 36,
   "metadata": {
    "id": "VwQPC8Rc3Se8"
   },
   "outputs": [],
   "source": [
    "# hallway 22\n",
    "targets = ('hallway 21', 'hallway 23', 'ufficio 13', 'ufficio 23')\n",
    "source = 'hallway 22'\n",
    "\n",
    "create_edges(source, targets, bp)"
   ]
  },
  {
   "cell_type": "code",
   "execution_count": 37,
   "metadata": {
    "id": "tz1U_aDX3Shu"
   },
   "outputs": [],
   "source": [
    "# hallway 23\n",
    "targets = ('hallway 22', 'hallway 24', 'ufficio 14', 'ufficio 24')\n",
    "source = 'hallway 23'\n",
    "\n",
    "create_edges(source, targets, bp)"
   ]
  },
  {
   "cell_type": "code",
   "execution_count": 38,
   "metadata": {
    "id": "rjOLzHG737oO"
   },
   "outputs": [],
   "source": [
    "# hallway 24\n",
    "targets = ('hallway 23', 'hallway 25', 'tunnel', 'ufficio 25')\n",
    "source = 'hallway 24'\n",
    "\n",
    "create_edges(source, targets, bp)"
   ]
  },
  {
   "cell_type": "code",
   "execution_count": 39,
   "metadata": {
    "id": "DJ3tX0VZ37r0"
   },
   "outputs": [],
   "source": [
    "# hallway 25\n",
    "targets = ('hallway 24', 'hallway 26', 'ufficio 15', 'ufficio 26')\n",
    "source = 'hallway 25'\n",
    "\n",
    "create_edges(source, targets, bp)"
   ]
  },
  {
   "cell_type": "code",
   "execution_count": 40,
   "metadata": {
    "id": "ArEeXsALjBhi"
   },
   "outputs": [],
   "source": [
    "# hallway 26\n",
    "targets = ('hallway 25', 'hallway 27', 'ufficio 16', 'ufficio 27')\n",
    "source = 'hallway 26'\n",
    "\n",
    "create_edges(source, targets, bp)"
   ]
  },
  {
   "cell_type": "code",
   "execution_count": 41,
   "metadata": {
    "id": "eoeKjLA6jjL8"
   },
   "outputs": [],
   "source": [
    "# hallway 27\n",
    "targets = ('hallway 26', 'hallway 28', 'ufficio 17', 'laboratorio 8')\n",
    "source = 'hallway 27'\n",
    "\n",
    "create_edges(source, targets, bp)"
   ]
  },
  {
   "cell_type": "code",
   "execution_count": 42,
   "metadata": {
    "id": "9LK0SRbSjjOw"
   },
   "outputs": [],
   "source": [
    "# hallway 28\n",
    "targets = ('hallway 27', 'hallway 29', 'ufficio 18', 'laboratorio 9')\n",
    "source = 'hallway 28'\n",
    "\n",
    "create_edges(source, targets, bp)"
   ]
  },
  {
   "cell_type": "code",
   "execution_count": 43,
   "metadata": {
    "id": "Y5wARYhVko0f"
   },
   "outputs": [],
   "source": [
    "# hallway 29\n",
    "targets = ('hallway 28', 'hallway 30', 'ufficio 19')\n",
    "source = 'hallway 29'\n",
    "\n",
    "create_edges(source, targets, bp)"
   ]
  },
  {
   "cell_type": "code",
   "execution_count": 44,
   "metadata": {
    "id": "RisC7Mmqko6j"
   },
   "outputs": [],
   "source": [
    "# hallway 30\n",
    "targets = ('hallway 29', 'hallway 31', 'ufficio 20', 'wc 2')\n",
    "source = 'hallway 30'\n",
    "\n",
    "create_edges(source, targets, bp)"
   ]
  },
  {
   "cell_type": "code",
   "execution_count": 45,
   "metadata": {
    "id": "lBSRRP0ojBlF"
   },
   "outputs": [],
   "source": [
    "# hallway 31\n",
    "targets = ('hallway 30', 'hallway 32', 'ufficio 21', 'laboratorio 10')\n",
    "source = 'hallway 31'\n",
    "\n",
    "create_edges(source, targets, bp)"
   ]
  },
  {
   "cell_type": "code",
   "execution_count": 46,
   "metadata": {
    "id": "M1wL4ixQmU2g"
   },
   "outputs": [],
   "source": [
    "# hallway 32\n",
    "targets = ('hallway 31', 'ufficio 22', 'laboratorio 10')\n",
    "source = 'hallway 32'\n",
    "\n",
    "create_edges(source, targets, bp)"
   ]
  },
  {
   "cell_type": "code",
   "execution_count": 47,
   "metadata": {
    "colab": {
     "base_uri": "https://localhost:8080/"
    },
    "id": "HB51UDb9nQ-p",
    "outputId": "7e47ffa2-37b2-40bc-8ea1-88540cea3150"
   },
   "outputs": [
    {
     "data": {
      "text/plain": [
       "78"
      ]
     },
     "execution_count": 47,
     "metadata": {},
     "output_type": "execute_result"
    }
   ],
   "source": [
    "len(bp.nodes)"
   ]
  },
  {
   "cell_type": "markdown",
   "metadata": {
    "id": "abpzCGxGnFmW"
   },
   "source": [
    "## Create edges for rooms not connected to hallways~"
   ]
  },
  {
   "cell_type": "code",
   "execution_count": 48,
   "metadata": {
    "id": "UyfSi6QhmU6U"
   },
   "outputs": [],
   "source": [
    "create_edges('aula 1', ['ufficio 2'], bp)\n",
    "create_edges('ufficio 4', ['ufficio 5'], bp)\n",
    "create_edges('aula multi mediale', ['ufficio 7'], bp)\n",
    "create_edges('unknown', ['ufficio 8'], bp)\n",
    "create_edges('unknown', ['sala riuniuni'], bp)\n",
    "create_edges('laboratorio 1', ['laboratorio 2'], bp)\n",
    "create_edges('ufficio 9', ['ufficio 10'], bp)\n",
    "create_edges('aula 2', ['ufficio 11'], bp)\n",
    "create_edges('ufficio 13', ['ufficio 14'], bp)\n",
    "create_edges('ufficio 15', ['ufficio 16'], bp)\n",
    "create_edges('ufficio 18', ['ufficio 19'], bp)\n",
    "create_edges('ufficio 23', ['ufficio 24'], bp)\n",
    "create_edges('ufficio 25', ['ufficio 26'], bp)\n",
    "create_edges('ufficio 27', ['laboratorio 8'], bp)"
   ]
  },
  {
   "cell_type": "code",
   "execution_count": 49,
   "metadata": {
    "colab": {
     "base_uri": "https://localhost:8080/"
    },
    "id": "kfs05OTUnOwW",
    "outputId": "8bb90f08-4bbe-4634-f82f-7dd78865734d"
   },
   "outputs": [
    {
     "data": {
      "text/plain": [
       "(78, 91)"
      ]
     },
     "execution_count": 49,
     "metadata": {},
     "output_type": "execute_result"
    }
   ],
   "source": [
    "len(bp.nodes), len(bp.edges)"
   ]
  },
  {
   "cell_type": "code",
   "execution_count": 50,
   "metadata": {
    "colab": {
     "base_uri": "https://localhost:8080/"
    },
    "id": "gyM5fMpuejfA",
    "outputId": "146c6dc5-7633-48c3-a269-0217e8f2220f"
   },
   "outputs": [
    {
     "data": {
      "text/plain": [
       "91"
      ]
     },
     "execution_count": 50,
     "metadata": {},
     "output_type": "execute_result"
    }
   ],
   "source": [
    "len(bp.edges)"
   ]
  },
  {
   "cell_type": "markdown",
   "metadata": {
    "id": "27TtsrWUnqjj"
   },
   "source": [
    "## Diagram"
   ]
  },
  {
   "cell_type": "code",
   "execution_count": 51,
   "metadata": {
    "colab": {
     "base_uri": "https://localhost:8080/",
     "height": 651
    },
    "id": "9_LtrBnKnOy_",
    "outputId": "5b98abdb-721b-4228-8b80-05c9a6d4e706"
   },
   "outputs": [
    {
     "name": "stdout",
     "output_type": "stream",
     "text": [
      "network.html\n"
     ]
    },
    {
     "data": {
      "text/html": [
       "<html>\n",
       "    <head>\n",
       "        <meta charset=\"utf-8\">\n",
       "        \n",
       "            <script>function neighbourhoodHighlight(params) {\n",
       "  // console.log(\"in nieghbourhoodhighlight\");\n",
       "  allNodes = nodes.get({ returnType: \"Object\" });\n",
       "  // originalNodes = JSON.parse(JSON.stringify(allNodes));\n",
       "  // if something is selected:\n",
       "  if (params.nodes.length > 0) {\n",
       "    highlightActive = true;\n",
       "    var i, j;\n",
       "    var selectedNode = params.nodes[0];\n",
       "    var degrees = 2;\n",
       "\n",
       "    // mark all nodes as hard to read.\n",
       "    for (let nodeId in allNodes) {\n",
       "      // nodeColors[nodeId] = allNodes[nodeId].color;\n",
       "      allNodes[nodeId].color = \"rgba(200,200,200,0.5)\";\n",
       "      if (allNodes[nodeId].hiddenLabel === undefined) {\n",
       "        allNodes[nodeId].hiddenLabel = allNodes[nodeId].label;\n",
       "        allNodes[nodeId].label = undefined;\n",
       "      }\n",
       "    }\n",
       "    var connectedNodes = network.getConnectedNodes(selectedNode);\n",
       "    var allConnectedNodes = [];\n",
       "\n",
       "    // get the second degree nodes\n",
       "    for (i = 1; i < degrees; i++) {\n",
       "      for (j = 0; j < connectedNodes.length; j++) {\n",
       "        allConnectedNodes = allConnectedNodes.concat(\n",
       "          network.getConnectedNodes(connectedNodes[j])\n",
       "        );\n",
       "      }\n",
       "    }\n",
       "\n",
       "    // all second degree nodes get a different color and their label back\n",
       "    for (i = 0; i < allConnectedNodes.length; i++) {\n",
       "      // allNodes[allConnectedNodes[i]].color = \"pink\";\n",
       "      allNodes[allConnectedNodes[i]].color = \"rgba(150,150,150,0.75)\";\n",
       "      if (allNodes[allConnectedNodes[i]].hiddenLabel !== undefined) {\n",
       "        allNodes[allConnectedNodes[i]].label =\n",
       "          allNodes[allConnectedNodes[i]].hiddenLabel;\n",
       "        allNodes[allConnectedNodes[i]].hiddenLabel = undefined;\n",
       "      }\n",
       "    }\n",
       "\n",
       "    // all first degree nodes get their own color and their label back\n",
       "    for (i = 0; i < connectedNodes.length; i++) {\n",
       "      // allNodes[connectedNodes[i]].color = undefined;\n",
       "      allNodes[connectedNodes[i]].color = nodeColors[connectedNodes[i]];\n",
       "      if (allNodes[connectedNodes[i]].hiddenLabel !== undefined) {\n",
       "        allNodes[connectedNodes[i]].label =\n",
       "          allNodes[connectedNodes[i]].hiddenLabel;\n",
       "        allNodes[connectedNodes[i]].hiddenLabel = undefined;\n",
       "      }\n",
       "    }\n",
       "\n",
       "    // the main node gets its own color and its label back.\n",
       "    // allNodes[selectedNode].color = undefined;\n",
       "    allNodes[selectedNode].color = nodeColors[selectedNode];\n",
       "    if (allNodes[selectedNode].hiddenLabel !== undefined) {\n",
       "      allNodes[selectedNode].label = allNodes[selectedNode].hiddenLabel;\n",
       "      allNodes[selectedNode].hiddenLabel = undefined;\n",
       "    }\n",
       "  } else if (highlightActive === true) {\n",
       "    // console.log(\"highlightActive was true\");\n",
       "    // reset all nodes\n",
       "    for (let nodeId in allNodes) {\n",
       "      // allNodes[nodeId].color = \"purple\";\n",
       "      allNodes[nodeId].color = nodeColors[nodeId];\n",
       "      // delete allNodes[nodeId].color;\n",
       "      if (allNodes[nodeId].hiddenLabel !== undefined) {\n",
       "        allNodes[nodeId].label = allNodes[nodeId].hiddenLabel;\n",
       "        allNodes[nodeId].hiddenLabel = undefined;\n",
       "      }\n",
       "    }\n",
       "    highlightActive = false;\n",
       "  }\n",
       "\n",
       "  // transform the object into an array\n",
       "  var updateArray = [];\n",
       "  if (params.nodes.length > 0) {\n",
       "    for (let nodeId in allNodes) {\n",
       "      if (allNodes.hasOwnProperty(nodeId)) {\n",
       "        // console.log(allNodes[nodeId]);\n",
       "        updateArray.push(allNodes[nodeId]);\n",
       "      }\n",
       "    }\n",
       "    nodes.update(updateArray);\n",
       "  } else {\n",
       "    // console.log(\"Nothing was selected\");\n",
       "    for (let nodeId in allNodes) {\n",
       "      if (allNodes.hasOwnProperty(nodeId)) {\n",
       "        // console.log(allNodes[nodeId]);\n",
       "        // allNodes[nodeId].color = {};\n",
       "        updateArray.push(allNodes[nodeId]);\n",
       "      }\n",
       "    }\n",
       "    nodes.update(updateArray);\n",
       "  }\n",
       "}\n",
       "\n",
       "function filterHighlight(params) {\n",
       "  allNodes = nodes.get({ returnType: \"Object\" });\n",
       "  // if something is selected:\n",
       "  if (params.nodes.length > 0) {\n",
       "    filterActive = true;\n",
       "    let selectedNodes = params.nodes;\n",
       "\n",
       "    // hiding all nodes and saving the label\n",
       "    for (let nodeId in allNodes) {\n",
       "      allNodes[nodeId].hidden = true;\n",
       "      if (allNodes[nodeId].savedLabel === undefined) {\n",
       "        allNodes[nodeId].savedLabel = allNodes[nodeId].label;\n",
       "        allNodes[nodeId].label = undefined;\n",
       "      }\n",
       "    }\n",
       "\n",
       "    for (let i=0; i < selectedNodes.length; i++) {\n",
       "      allNodes[selectedNodes[i]].hidden = false;\n",
       "      if (allNodes[selectedNodes[i]].savedLabel !== undefined) {\n",
       "        allNodes[selectedNodes[i]].label = allNodes[selectedNodes[i]].savedLabel;\n",
       "        allNodes[selectedNodes[i]].savedLabel = undefined;\n",
       "      }\n",
       "    }\n",
       "\n",
       "  } else if (filterActive === true) {\n",
       "    // reset all nodes\n",
       "    for (let nodeId in allNodes) {\n",
       "      allNodes[nodeId].hidden = false;\n",
       "      if (allNodes[nodeId].savedLabel !== undefined) {\n",
       "        allNodes[nodeId].label = allNodes[nodeId].savedLabel;\n",
       "        allNodes[nodeId].savedLabel = undefined;\n",
       "      }\n",
       "    }\n",
       "    filterActive = false;\n",
       "  }\n",
       "\n",
       "  // transform the object into an array\n",
       "  var updateArray = [];\n",
       "  if (params.nodes.length > 0) {\n",
       "    for (let nodeId in allNodes) {\n",
       "      if (allNodes.hasOwnProperty(nodeId)) {\n",
       "        updateArray.push(allNodes[nodeId]);\n",
       "      }\n",
       "    }\n",
       "    nodes.update(updateArray);\n",
       "  } else {\n",
       "    for (let nodeId in allNodes) {\n",
       "      if (allNodes.hasOwnProperty(nodeId)) {\n",
       "        updateArray.push(allNodes[nodeId]);\n",
       "      }\n",
       "    }\n",
       "    nodes.update(updateArray);\n",
       "  }\n",
       "}\n",
       "\n",
       "function selectNode(nodes) {\n",
       "  network.selectNodes(nodes);\n",
       "  neighbourhoodHighlight({ nodes: nodes });\n",
       "  return nodes;\n",
       "}\n",
       "\n",
       "function selectNodes(nodes) {\n",
       "  network.selectNodes(nodes);\n",
       "  filterHighlight({nodes: nodes});\n",
       "  return nodes;\n",
       "}\n",
       "\n",
       "function highlightFilter(filter) {\n",
       "  let selectedNodes = []\n",
       "  let selectedProp = filter['property']\n",
       "  if (filter['item'] === 'node') {\n",
       "    let allNodes = nodes.get({ returnType: \"Object\" });\n",
       "    for (let nodeId in allNodes) {\n",
       "      if (allNodes[nodeId][selectedProp] && filter['value'].includes((allNodes[nodeId][selectedProp]).toString())) {\n",
       "        selectedNodes.push(nodeId)\n",
       "      }\n",
       "    }\n",
       "  }\n",
       "  else if (filter['item'] === 'edge'){\n",
       "    let allEdges = edges.get({returnType: 'object'});\n",
       "    // check if the selected property exists for selected edge and select the nodes connected to the edge\n",
       "    for (let edge in allEdges) {\n",
       "      if (allEdges[edge][selectedProp] && filter['value'].includes((allEdges[edge][selectedProp]).toString())) {\n",
       "        selectedNodes.push(allEdges[edge]['from'])\n",
       "        selectedNodes.push(allEdges[edge]['to'])\n",
       "      }\n",
       "    }\n",
       "  }\n",
       "  selectNodes(selectedNodes)\n",
       "}</script>\n",
       "            <link rel=\"stylesheet\" href=\"https://cdnjs.cloudflare.com/ajax/libs/vis-network/9.1.2/dist/dist/vis-network.min.css\" integrity=\"sha512-WgxfT5LWjfszlPHXRmBWHkV2eceiWTOBvrKCNbdgDYTHrT2AeLCGbF4sZlZw3UMN3WtL0tGUoIAKsu8mllg/XA==\" crossorigin=\"anonymous\" referrerpolicy=\"no-referrer\" />\n",
       "            <script src=\"https://cdnjs.cloudflare.com/ajax/libs/vis-network/9.1.2/dist/vis-network.min.js\" integrity=\"sha512-LnvoEWDFrqGHlHmDD2101OrLcbsfkrzoSpvtSQtxK3RMnRV0eOkhhBN2dXHKRrUU8p2DGRTk35n4O8nWSVe1mQ==\" crossorigin=\"anonymous\" referrerpolicy=\"no-referrer\"></script>\n",
       "            \n",
       "            \n",
       "            \n",
       "            \n",
       "            \n",
       "            \n",
       "\n",
       "        \n",
       "<center>\n",
       "<h1></h1>\n",
       "</center>\n",
       "\n",
       "<!-- <link rel=\"stylesheet\" href=\"../node_modules/vis/dist/vis.min.css\" type=\"text/css\" />\n",
       "<script type=\"text/javascript\" src=\"../node_modules/vis/dist/vis.js\"> </script>-->\n",
       "        <link\n",
       "          href=\"https://cdn.jsdelivr.net/npm/bootstrap@5.0.0-beta3/dist/css/bootstrap.min.css\"\n",
       "          rel=\"stylesheet\"\n",
       "          integrity=\"sha384-eOJMYsd53ii+scO/bJGFsiCZc+5NDVN2yr8+0RDqr0Ql0h+rP48ckxlpbzKgwra6\"\n",
       "          crossorigin=\"anonymous\"\n",
       "        />\n",
       "        <script\n",
       "          src=\"https://cdn.jsdelivr.net/npm/bootstrap@5.0.0-beta3/dist/js/bootstrap.bundle.min.js\"\n",
       "          integrity=\"sha384-JEW9xMcG8R+pH31jmWH6WWP0WintQrMb4s7ZOdauHnUtxwoG2vI5DkLtS3qm9Ekf\"\n",
       "          crossorigin=\"anonymous\"\n",
       "        ></script>\n",
       "\n",
       "\n",
       "        <center>\n",
       "          <h1></h1>\n",
       "        </center>\n",
       "        <style type=\"text/css\">\n",
       "\n",
       "             #mynetwork {\n",
       "                 width: 100%;\n",
       "                 height: 600px;\n",
       "                 background-color: #ffffff;\n",
       "                 border: 1px solid lightgray;\n",
       "                 position: relative;\n",
       "                 float: left;\n",
       "             }\n",
       "\n",
       "             \n",
       "\n",
       "             \n",
       "\n",
       "             \n",
       "        </style>\n",
       "    </head>\n",
       "\n",
       "\n",
       "    <body>\n",
       "        <div class=\"card\" style=\"width: 100%\">\n",
       "            \n",
       "            \n",
       "            <div id=\"mynetwork\" class=\"card-body\"></div>\n",
       "        </div>\n",
       "\n",
       "        \n",
       "        \n",
       "\n",
       "        <script type=\"text/javascript\">\n",
       "\n",
       "              // initialize global variables.\n",
       "              var edges;\n",
       "              var nodes;\n",
       "              var allNodes;\n",
       "              var allEdges;\n",
       "              var nodeColors;\n",
       "              var originalNodes;\n",
       "              var network;\n",
       "              var container;\n",
       "              var options, data;\n",
       "              var filter = {\n",
       "                  item : '',\n",
       "                  property : '',\n",
       "                  value : []\n",
       "              };\n",
       "\n",
       "              \n",
       "\n",
       "              \n",
       "\n",
       "              // This method is responsible for drawing the graph, returns the drawn network\n",
       "              function drawGraph() {\n",
       "                  var container = document.getElementById('mynetwork');\n",
       "\n",
       "                  \n",
       "\n",
       "                  // parsing and collecting nodes and edges from the python\n",
       "                  nodes = new vis.DataSet([{\"group\": \"room\", \"id\": \"ufficio 1\", \"label\": \"ufficio 1\", \"shape\": \"dot\", \"size\": 10, \"x\": 0, \"y\": 0}, {\"group\": \"hallway\", \"id\": \"hallway 1\", \"label\": \"hallway 1\", \"shape\": \"dot\", \"size\": 10, \"x\": 0, \"y\": 100}, {\"group\": \"room\", \"id\": \"ufficio 2\", \"label\": \"ufficio 2\", \"shape\": \"dot\", \"size\": 10, \"x\": 300, \"y\": 0}, {\"group\": \"hallway\", \"id\": \"hallway 4\", \"label\": \"hallway 4\", \"shape\": \"dot\", \"size\": 10, \"x\": 300, \"y\": 100}, {\"group\": \"room\", \"id\": \"aula 1\", \"label\": \"aula 1\", \"shape\": \"dot\", \"size\": 10, \"x\": 200, \"y\": 0}, {\"group\": \"room\", \"id\": \"ufficio 3\", \"label\": \"ufficio 3\", \"shape\": \"dot\", \"size\": 10, \"x\": 400, \"y\": 0}, {\"group\": \"hallway\", \"id\": \"hallway 5\", \"label\": \"hallway 5\", \"shape\": \"dot\", \"size\": 10, \"x\": 400, \"y\": 100}, {\"group\": \"room\", \"id\": \"ufficio 4\", \"label\": \"ufficio 4\", \"shape\": \"dot\", \"size\": 10, \"x\": 500, \"y\": 0}, {\"group\": \"hallway\", \"id\": \"hallway 6\", \"label\": \"hallway 6\", \"shape\": \"dot\", \"size\": 10, \"x\": 500, \"y\": 100}, {\"group\": \"room\", \"id\": \"ufficio 5\", \"label\": \"ufficio 5\", \"shape\": \"dot\", \"size\": 10, \"x\": 600, \"y\": 0}, {\"group\": \"hallway\", \"id\": \"hallway 7\", \"label\": \"hallway 7\", \"shape\": \"dot\", \"size\": 10, \"x\": 600, \"y\": 100}, {\"group\": \"room\", \"id\": \"ufficio 6\", \"label\": \"ufficio 6\", \"shape\": \"dot\", \"size\": 10, \"x\": 700, \"y\": 0}, {\"group\": \"hallway\", \"id\": \"hallway 8\", \"label\": \"hallway 8\", \"shape\": \"dot\", \"size\": 10, \"x\": 700, \"y\": 100}, {\"group\": \"room\", \"id\": \"ufficio 7\", \"label\": \"ufficio 7\", \"shape\": \"dot\", \"size\": 10, \"x\": 900, \"y\": 0}, {\"group\": \"hallway\", \"id\": \"hallway 10\", \"label\": \"hallway 10\", \"shape\": \"dot\", \"size\": 10, \"x\": 900, \"y\": 100}, {\"group\": \"room\", \"id\": \"aula multi mediale\", \"label\": \"aula multi mediale\", \"shape\": \"dot\", \"size\": 10, \"x\": 800, \"y\": 0}, {\"group\": \"room\", \"id\": \"ufficio 8\", \"label\": \"ufficio 8\", \"shape\": \"dot\", \"size\": 10, \"x\": 1100, \"y\": 0}, {\"group\": \"room\", \"id\": \"unknown\", \"label\": \"unknown\", \"shape\": \"dot\", \"size\": 10, \"x\": 1100, \"y\": 100}, {\"group\": \"room\", \"id\": \"ufficio 9\", \"label\": \"ufficio 9\", \"shape\": \"dot\", \"size\": 10, \"x\": 1000, \"y\": 300}, {\"group\": \"hallway\", \"id\": \"hallway 12\", \"label\": \"hallway 12\", \"shape\": \"dot\", \"size\": 10, \"x\": 1000, \"y\": 200}, {\"group\": \"room\", \"id\": \"ufficio 10\", \"label\": \"ufficio 10\", \"shape\": \"dot\", \"size\": 10, \"x\": 1100, \"y\": 300}, {\"group\": \"hallway\", \"id\": \"hallway 13\", \"label\": \"hallway 13\", \"shape\": \"dot\", \"size\": 10, \"x\": 1100, \"y\": 200}, {\"group\": \"room\", \"id\": \"ufficio 11\", \"label\": \"ufficio 11\", \"shape\": \"dot\", \"size\": 10, \"x\": 300, \"y\": 800}, {\"group\": \"hallway\", \"id\": \"hallway 20\", \"label\": \"hallway 20\", \"shape\": \"dot\", \"size\": 10, \"x\": 300, \"y\": 900}, {\"group\": \"room\", \"id\": \"aula 2\", \"label\": \"aula 2\", \"shape\": \"dot\", \"size\": 10, \"x\": 200, \"y\": 800}, {\"group\": \"room\", \"id\": \"ufficio 12\", \"label\": \"ufficio 12\", \"shape\": \"dot\", \"size\": 10, \"x\": 400, \"y\": 800}, {\"group\": \"hallway\", \"id\": \"hallway 21\", \"label\": \"hallway 21\", \"shape\": \"dot\", \"size\": 10, \"x\": 400, \"y\": 900}, {\"group\": \"room\", \"id\": \"ufficio 13\", \"label\": \"ufficio 13\", \"shape\": \"dot\", \"size\": 10, \"x\": 500, \"y\": 800}, {\"group\": \"hallway\", \"id\": \"hallway 22\", \"label\": \"hallway 22\", \"shape\": \"dot\", \"size\": 10, \"x\": 500, \"y\": 900}, {\"group\": \"room\", \"id\": \"ufficio 14\", \"label\": \"ufficio 14\", \"shape\": \"dot\", \"size\": 10, \"x\": 600, \"y\": 800}, {\"group\": \"hallway\", \"id\": \"hallway 23\", \"label\": \"hallway 23\", \"shape\": \"dot\", \"size\": 10, \"x\": 600, \"y\": 900}, {\"group\": \"room\", \"id\": \"ufficio 15\", \"label\": \"ufficio 15\", \"shape\": \"dot\", \"size\": 10, \"x\": 800, \"y\": 800}, {\"group\": \"hallway\", \"id\": \"hallway 25\", \"label\": \"hallway 25\", \"shape\": \"dot\", \"size\": 10, \"x\": 800, \"y\": 900}, {\"group\": \"room\", \"id\": \"ufficio 16\", \"label\": \"ufficio 16\", \"shape\": \"dot\", \"size\": 10, \"x\": 900, \"y\": 800}, {\"group\": \"hallway\", \"id\": \"hallway 26\", \"label\": \"hallway 26\", \"shape\": \"dot\", \"size\": 10, \"x\": 900, \"y\": 900}, {\"group\": \"room\", \"id\": \"ufficio 17\", \"label\": \"ufficio 17\", \"shape\": \"dot\", \"size\": 10, \"x\": 1000, \"y\": 800}, {\"group\": \"hallway\", \"id\": \"hallway 27\", \"label\": \"hallway 27\", \"shape\": \"dot\", \"size\": 10, \"x\": 1000, \"y\": 900}, {\"group\": \"room\", \"id\": \"ufficio 18\", \"label\": \"ufficio 18\", \"shape\": \"dot\", \"size\": 10, \"x\": 1100, \"y\": 800}, {\"group\": \"hallway\", \"id\": \"hallway 28\", \"label\": \"hallway 28\", \"shape\": \"dot\", \"size\": 10, \"x\": 1100, \"y\": 900}, {\"group\": \"room\", \"id\": \"ufficio 19\", \"label\": \"ufficio 19\", \"shape\": \"dot\", \"size\": 10, \"x\": 1200, \"y\": 800}, {\"group\": \"hallway\", \"id\": \"hallway 29\", \"label\": \"hallway 29\", \"shape\": \"dot\", \"size\": 10, \"x\": 1200, \"y\": 900}, {\"group\": \"room\", \"id\": \"ufficio 20\", \"label\": \"ufficio 20\", \"shape\": \"dot\", \"size\": 10, \"x\": 1300, \"y\": 800}, {\"group\": \"hallway\", \"id\": \"hallway 30\", \"label\": \"hallway 30\", \"shape\": \"dot\", \"size\": 10, \"x\": 1300, \"y\": 900}, {\"group\": \"room\", \"id\": \"ufficio 21\", \"label\": \"ufficio 21\", \"shape\": \"dot\", \"size\": 10, \"x\": 1400, \"y\": 800}, {\"group\": \"hallway\", \"id\": \"hallway 31\", \"label\": \"hallway 31\", \"shape\": \"dot\", \"size\": 10, \"x\": 1400, \"y\": 900}, {\"group\": \"room\", \"id\": \"ufficio 22\", \"label\": \"ufficio 22\", \"shape\": \"dot\", \"size\": 10, \"x\": 1500, \"y\": 800}, {\"group\": \"hallway\", \"id\": \"hallway 32\", \"label\": \"hallway 32\", \"shape\": \"dot\", \"size\": 10, \"x\": 1500, \"y\": 900}, {\"group\": \"room\", \"id\": \"ufficio 23\", \"label\": \"ufficio 23\", \"shape\": \"dot\", \"size\": 10, \"x\": 500, \"y\": 1100}, {\"group\": \"room\", \"id\": \"ufficio 24\", \"label\": \"ufficio 24\", \"shape\": \"dot\", \"size\": 10, \"x\": 600, \"y\": 1100}, {\"group\": \"room\", \"id\": \"ufficio 25\", \"label\": \"ufficio 25\", \"shape\": \"dot\", \"size\": 10, \"x\": 700, \"y\": 1100}, {\"group\": \"hallway\", \"id\": \"hallway 24\", \"label\": \"hallway 24\", \"shape\": \"dot\", \"size\": 10, \"x\": 700, \"y\": 900}, {\"group\": \"room\", \"id\": \"ufficio 26\", \"label\": \"ufficio 26\", \"shape\": \"dot\", \"size\": 10, \"x\": 800, \"y\": 1100}, {\"group\": \"room\", \"id\": \"ufficio 27\", \"label\": \"ufficio 27\", \"shape\": \"dot\", \"size\": 10, \"x\": 900, \"y\": 1100}, {\"group\": \"room\", \"id\": \"laboratorio 8\", \"label\": \"laboratorio 8\", \"shape\": \"dot\", \"size\": 10, \"x\": 1000, \"y\": 1100}, {\"group\": \"room\", \"id\": \"laboratorio 1\", \"label\": \"laboratorio 1\", \"shape\": \"dot\", \"size\": 10, \"x\": 100, \"y\": 300}, {\"group\": \"hallway\", \"id\": \"hallway 2\", \"label\": \"hallway 2\", \"shape\": \"dot\", \"size\": 10, \"x\": 100, \"y\": 100}, {\"group\": \"room\", \"id\": \"laboratorio 2\", \"label\": \"laboratorio 2\", \"shape\": \"dot\", \"size\": 10, \"x\": 250.0, \"y\": 300}, {\"group\": \"room\", \"id\": \"laboratorio 3\", \"label\": \"laboratorio 3\", \"shape\": \"dot\", \"size\": 10, \"x\": 550.0, \"y\": 300}, {\"group\": \"hallway\", \"id\": \"hallway 15\", \"label\": \"hallway 15\", \"shape\": \"dot\", \"size\": 10, \"x\": 700, \"y\": 300}, {\"group\": \"room\", \"id\": \"laboratorio 4\", \"label\": \"laboratorio 4\", \"shape\": \"dot\", \"size\": 10, \"x\": 850.0, \"y\": 300}, {\"group\": \"room\", \"id\": \"laboratorio 5\", \"label\": \"laboratorio 5\", \"shape\": \"dot\", \"size\": 10, \"x\": 1200, \"y\": 300}, {\"group\": \"hallway\", \"id\": \"hallway 14\", \"label\": \"hallway 14\", \"shape\": \"dot\", \"size\": 10, \"x\": 1200, \"y\": 200}, {\"group\": \"room\", \"id\": \"laboratorio 6\", \"label\": \"laboratorio 6\", \"shape\": \"dot\", \"size\": 10, \"x\": 250.0, \"y\": 1100}, {\"group\": \"hallway\", \"id\": \"hallway 19\", \"label\": \"hallway 19\", \"shape\": \"dot\", \"size\": 10, \"x\": 200, \"y\": 900}, {\"group\": \"room\", \"id\": \"laboratorio 7\", \"label\": \"laboratorio 7\", \"shape\": \"dot\", \"size\": 10, \"x\": 400, \"y\": 1100}, {\"group\": \"room\", \"id\": \"laboratorio 9\", \"label\": \"laboratorio 9\", \"shape\": \"dot\", \"size\": 10, \"x\": 1150.0, \"y\": 1100}, {\"group\": \"room\", \"id\": \"laboratorio 10\", \"label\": \"laboratorio 10\", \"shape\": \"dot\", \"size\": 10, \"x\": 1450.0, \"y\": 1100}, {\"group\": \"hallway\", \"id\": \"hallway 16\", \"label\": \"hallway 16\", \"shape\": \"dot\", \"size\": 10, \"x\": 0, \"y\": 800}, {\"group\": \"hallway\", \"id\": \"hallway 3\", \"label\": \"hallway 3\", \"shape\": \"dot\", \"size\": 10, \"x\": 200, \"y\": 100}, {\"group\": \"room\", \"id\": \"elevator\", \"label\": \"elevator\", \"shape\": \"dot\", \"size\": 10, \"x\": 400, \"y\": 300}, {\"group\": \"hallway\", \"id\": \"hallway 9\", \"label\": \"hallway 9\", \"shape\": \"dot\", \"size\": 10, \"x\": 800, \"y\": 100}, {\"group\": \"hallway\", \"id\": \"hallway 11\", \"label\": \"hallway 11\", \"shape\": \"dot\", \"size\": 10, \"x\": 1000, \"y\": 100}, {\"group\": \"room\", \"id\": \"wc 1\", \"label\": \"wc 1\", \"shape\": \"dot\", \"size\": 10, \"x\": 1000, \"y\": 0}, {\"group\": \"room\", \"id\": \"sala riuniuni\", \"label\": \"sala riuniuni\", \"shape\": \"dot\", \"size\": 10, \"x\": 1200, \"y\": 0}, {\"group\": \"hallway\", \"id\": \"tunnel\", \"label\": \"tunnel\", \"shape\": \"dot\", \"size\": 10, \"x\": 700, \"y\": 600}, {\"group\": \"hallway\", \"id\": \"hallway 17\", \"label\": \"hallway 17\", \"shape\": \"dot\", \"size\": 10, \"x\": 100, \"y\": 800}, {\"group\": \"hallway\", \"id\": \"hallway 18\", \"label\": \"hallway 18\", \"shape\": \"dot\", \"size\": 10, \"x\": 100, \"y\": 900}, {\"group\": \"room\", \"id\": \"wc 2\", \"label\": \"wc 2\", \"shape\": \"dot\", \"size\": 10, \"x\": 1300, \"y\": 1100}]);\n",
       "                  edges = new vis.DataSet([{\"from\": \"ufficio 1\", \"label\": \"1.0\", \"to\": \"hallway 1\", \"width\": 1.0}, {\"from\": \"ufficio 2\", \"label\": \"1.0\", \"to\": \"hallway 4\", \"width\": 1.0}, {\"from\": \"ufficio 2\", \"label\": \"1.0\", \"to\": \"aula 1\", \"width\": 1.0}, {\"from\": \"ufficio 3\", \"label\": \"1.0\", \"to\": \"hallway 5\", \"width\": 1.0}, {\"from\": \"ufficio 4\", \"label\": \"1.0\", \"to\": \"hallway 6\", \"width\": 1.0}, {\"from\": \"ufficio 4\", \"label\": \"1.0\", \"to\": \"ufficio 5\", \"width\": 1.0}, {\"from\": \"ufficio 5\", \"label\": \"1.0\", \"to\": \"hallway 7\", \"width\": 1.0}, {\"from\": \"ufficio 6\", \"label\": \"1.0\", \"to\": \"hallway 8\", \"width\": 1.0}, {\"from\": \"ufficio 7\", \"label\": \"1.0\", \"to\": \"hallway 10\", \"width\": 1.0}, {\"from\": \"ufficio 7\", \"label\": \"1.0\", \"to\": \"aula multi mediale\", \"width\": 1.0}, {\"from\": \"ufficio 8\", \"label\": \"1.0\", \"to\": \"unknown\", \"width\": 1.0}, {\"from\": \"ufficio 9\", \"label\": \"1.0\", \"to\": \"hallway 12\", \"width\": 1.0}, {\"from\": \"ufficio 9\", \"label\": \"1.0\", \"to\": \"ufficio 10\", \"width\": 1.0}, {\"from\": \"ufficio 10\", \"label\": \"1.0\", \"to\": \"hallway 13\", \"width\": 1.0}, {\"from\": \"ufficio 11\", \"label\": \"1.0\", \"to\": \"hallway 20\", \"width\": 1.0}, {\"from\": \"ufficio 11\", \"label\": \"1.0\", \"to\": \"aula 2\", \"width\": 1.0}, {\"from\": \"ufficio 12\", \"label\": \"1.0\", \"to\": \"hallway 21\", \"width\": 1.0}, {\"from\": \"ufficio 13\", \"label\": \"1.0\", \"to\": \"hallway 22\", \"width\": 1.0}, {\"from\": \"ufficio 13\", \"label\": \"1.0\", \"to\": \"ufficio 14\", \"width\": 1.0}, {\"from\": \"ufficio 14\", \"label\": \"1.0\", \"to\": \"hallway 23\", \"width\": 1.0}, {\"from\": \"ufficio 15\", \"label\": \"1.0\", \"to\": \"hallway 25\", \"width\": 1.0}, {\"from\": \"ufficio 15\", \"label\": \"1.0\", \"to\": \"ufficio 16\", \"width\": 1.0}, {\"from\": \"ufficio 16\", \"label\": \"1.0\", \"to\": \"hallway 26\", \"width\": 1.0}, {\"from\": \"ufficio 17\", \"label\": \"1.0\", \"to\": \"hallway 27\", \"width\": 1.0}, {\"from\": \"ufficio 18\", \"label\": \"1.0\", \"to\": \"hallway 28\", \"width\": 1.0}, {\"from\": \"ufficio 18\", \"label\": \"1.0\", \"to\": \"ufficio 19\", \"width\": 1.0}, {\"from\": \"ufficio 19\", \"label\": \"1.0\", \"to\": \"hallway 29\", \"width\": 1.0}, {\"from\": \"ufficio 20\", \"label\": \"1.0\", \"to\": \"hallway 30\", \"width\": 1.0}, {\"from\": \"ufficio 21\", \"label\": \"1.0\", \"to\": \"hallway 31\", \"width\": 1.0}, {\"from\": \"ufficio 22\", \"label\": \"1.0\", \"to\": \"hallway 32\", \"width\": 1.0}, {\"from\": \"ufficio 23\", \"label\": \"2.0\", \"to\": \"hallway 22\", \"width\": 2.0}, {\"from\": \"ufficio 23\", \"label\": \"1.0\", \"to\": \"ufficio 24\", \"width\": 1.0}, {\"from\": \"ufficio 24\", \"label\": \"2.0\", \"to\": \"hallway 23\", \"width\": 2.0}, {\"from\": \"ufficio 25\", \"label\": \"2.0\", \"to\": \"hallway 24\", \"width\": 2.0}, {\"from\": \"ufficio 25\", \"label\": \"1.0\", \"to\": \"ufficio 26\", \"width\": 1.0}, {\"from\": \"ufficio 26\", \"label\": \"2.0\", \"to\": \"hallway 25\", \"width\": 2.0}, {\"from\": \"ufficio 27\", \"label\": \"2.0\", \"to\": \"hallway 26\", \"width\": 2.0}, {\"from\": \"ufficio 27\", \"label\": \"1.0\", \"to\": \"laboratorio 8\", \"width\": 1.0}, {\"from\": \"laboratorio 1\", \"label\": \"2.0\", \"to\": \"hallway 2\", \"width\": 2.0}, {\"from\": \"laboratorio 1\", \"label\": \"1.5\", \"to\": \"laboratorio 2\", \"width\": 1.5}, {\"from\": \"laboratorio 3\", \"label\": \"1.5\", \"to\": \"hallway 15\", \"width\": 1.5}, {\"from\": \"laboratorio 4\", \"label\": \"1.5\", \"to\": \"hallway 15\", \"width\": 1.5}, {\"from\": \"laboratorio 5\", \"label\": \"1.0\", \"to\": \"hallway 14\", \"width\": 1.0}, {\"from\": \"laboratorio 6\", \"label\": \"2.0615528128088303\", \"to\": \"hallway 19\", \"width\": 2.0615528128088303}, {\"from\": \"laboratorio 7\", \"label\": \"2.0\", \"to\": \"hallway 21\", \"width\": 2.0}, {\"from\": \"laboratorio 8\", \"label\": \"2.0\", \"to\": \"hallway 27\", \"width\": 2.0}, {\"from\": \"laboratorio 9\", \"label\": \"2.0615528128088303\", \"to\": \"hallway 28\", \"width\": 2.0615528128088303}, {\"from\": \"laboratorio 10\", \"label\": \"2.0615528128088303\", \"to\": \"hallway 31\", \"width\": 2.0615528128088303}, {\"from\": \"laboratorio 10\", \"label\": \"2.0615528128088303\", \"to\": \"hallway 32\", \"width\": 2.0615528128088303}, {\"from\": \"hallway 1\", \"label\": \"7.0\", \"to\": \"hallway 16\", \"width\": 7.0}, {\"from\": \"hallway 1\", \"label\": \"1.0\", \"to\": \"hallway 2\", \"width\": 1.0}, {\"from\": \"hallway 2\", \"label\": \"1.0\", \"to\": \"hallway 3\", \"width\": 1.0}, {\"from\": \"hallway 3\", \"label\": \"1.0\", \"to\": \"aula 1\", \"width\": 1.0}, {\"from\": \"hallway 3\", \"label\": \"1.0\", \"to\": \"hallway 4\", \"width\": 1.0}, {\"from\": \"hallway 4\", \"label\": \"1.0\", \"to\": \"hallway 5\", \"width\": 1.0}, {\"from\": \"hallway 5\", \"label\": \"1.0\", \"to\": \"hallway 6\", \"width\": 1.0}, {\"from\": \"hallway 5\", \"label\": \"2.0\", \"to\": \"elevator\", \"width\": 2.0}, {\"from\": \"hallway 6\", \"label\": \"1.0\", \"to\": \"hallway 7\", \"width\": 1.0}, {\"from\": \"hallway 7\", \"label\": \"1.0\", \"to\": \"hallway 8\", \"width\": 1.0}, {\"from\": \"hallway 8\", \"label\": \"1.0\", \"to\": \"hallway 9\", \"width\": 1.0}, {\"from\": \"hallway 8\", \"label\": \"2.0\", \"to\": \"hallway 15\", \"width\": 2.0}, {\"from\": \"hallway 9\", \"label\": \"1.0\", \"to\": \"hallway 10\", \"width\": 1.0}, {\"from\": \"hallway 9\", \"label\": \"1.0\", \"to\": \"aula multi mediale\", \"width\": 1.0}, {\"from\": \"hallway 10\", \"label\": \"1.0\", \"to\": \"hallway 11\", \"width\": 1.0}, {\"from\": \"hallway 11\", \"label\": \"1.0\", \"to\": \"hallway 12\", \"width\": 1.0}, {\"from\": \"hallway 11\", \"label\": \"1.0\", \"to\": \"wc 1\", \"width\": 1.0}, {\"from\": \"hallway 12\", \"label\": \"1.0\", \"to\": \"hallway 13\", \"width\": 1.0}, {\"from\": \"hallway 13\", \"label\": \"1.0\", \"to\": \"hallway 14\", \"width\": 1.0}, {\"from\": \"hallway 13\", \"label\": \"1.0\", \"to\": \"unknown\", \"width\": 1.0}, {\"from\": \"hallway 14\", \"label\": \"2.0\", \"to\": \"sala riuniuni\", \"width\": 2.0}, {\"from\": \"hallway 15\", \"label\": \"3.0\", \"to\": \"tunnel\", \"width\": 3.0}, {\"from\": \"hallway 16\", \"label\": \"1.0\", \"to\": \"hallway 17\", \"width\": 1.0}, {\"from\": \"hallway 17\", \"label\": \"1.0\", \"to\": \"hallway 18\", \"width\": 1.0}, {\"from\": \"hallway 18\", \"label\": \"1.0\", \"to\": \"hallway 19\", \"width\": 1.0}, {\"from\": \"hallway 19\", \"label\": \"1.0\", \"to\": \"hallway 20\", \"width\": 1.0}, {\"from\": \"hallway 19\", \"label\": \"1.0\", \"to\": \"aula 2\", \"width\": 1.0}, {\"from\": \"hallway 20\", \"label\": \"1.0\", \"to\": \"hallway 21\", \"width\": 1.0}, {\"from\": \"hallway 21\", \"label\": \"1.0\", \"to\": \"hallway 22\", \"width\": 1.0}, {\"from\": \"hallway 22\", \"label\": \"1.0\", \"to\": \"hallway 23\", \"width\": 1.0}, {\"from\": \"hallway 23\", \"label\": \"1.0\", \"to\": \"hallway 24\", \"width\": 1.0}, {\"from\": \"hallway 24\", \"label\": \"1.0\", \"to\": \"hallway 25\", \"width\": 1.0}, {\"from\": \"hallway 24\", \"label\": \"3.0\", \"to\": \"tunnel\", \"width\": 3.0}, {\"from\": \"hallway 25\", \"label\": \"1.0\", \"to\": \"hallway 26\", \"width\": 1.0}, {\"from\": \"hallway 26\", \"label\": \"1.0\", \"to\": \"hallway 27\", \"width\": 1.0}, {\"from\": \"hallway 27\", \"label\": \"1.0\", \"to\": \"hallway 28\", \"width\": 1.0}, {\"from\": \"hallway 28\", \"label\": \"1.0\", \"to\": \"hallway 29\", \"width\": 1.0}, {\"from\": \"hallway 29\", \"label\": \"1.0\", \"to\": \"hallway 30\", \"width\": 1.0}, {\"from\": \"hallway 30\", \"label\": \"1.0\", \"to\": \"hallway 31\", \"width\": 1.0}, {\"from\": \"hallway 30\", \"label\": \"2.0\", \"to\": \"wc 2\", \"width\": 2.0}, {\"from\": \"hallway 31\", \"label\": \"1.0\", \"to\": \"hallway 32\", \"width\": 1.0}, {\"from\": \"unknown\", \"label\": \"1.4142135623730951\", \"to\": \"sala riuniuni\", \"width\": 1.4142135623730951}]);\n",
       "\n",
       "                  nodeColors = {};\n",
       "                  allNodes = nodes.get({ returnType: \"Object\" });\n",
       "                  for (nodeId in allNodes) {\n",
       "                    nodeColors[nodeId] = allNodes[nodeId].color;\n",
       "                  }\n",
       "                  allEdges = edges.get({ returnType: \"Object\" });\n",
       "                  // adding nodes and edges to the graph\n",
       "                  data = {nodes: nodes, edges: edges};\n",
       "\n",
       "                  var options = {\n",
       "    \"configure\": {\n",
       "        \"enabled\": false\n",
       "    },\n",
       "    \"edges\": {\n",
       "        \"color\": {\n",
       "            \"inherit\": true\n",
       "        },\n",
       "        \"smooth\": {\n",
       "            \"enabled\": true,\n",
       "            \"type\": \"dynamic\"\n",
       "        }\n",
       "    },\n",
       "    \"interaction\": {\n",
       "        \"dragNodes\": true,\n",
       "        \"hideEdgesOnDrag\": false,\n",
       "        \"hideNodesOnDrag\": false\n",
       "    },\n",
       "    \"physics\": {\n",
       "        \"enabled\": false,\n",
       "        \"stabilization\": {\n",
       "            \"enabled\": true,\n",
       "            \"fit\": true,\n",
       "            \"iterations\": 1000,\n",
       "            \"onlyDynamicEdges\": false,\n",
       "            \"updateInterval\": 50\n",
       "        }\n",
       "    }\n",
       "};\n",
       "\n",
       "                  \n",
       "\n",
       "\n",
       "                  \n",
       "\n",
       "                  network = new vis.Network(container, data, options);\n",
       "\n",
       "                  \n",
       "\n",
       "                  \n",
       "\n",
       "                  \n",
       "\n",
       "\n",
       "                  \n",
       "\n",
       "                  return network;\n",
       "\n",
       "              }\n",
       "              drawGraph();\n",
       "        </script>\n",
       "    </body>\n",
       "</html>"
      ],
      "text/plain": [
       "<IPython.core.display.HTML object>"
      ]
     },
     "metadata": {},
     "output_type": "display_data"
    }
   ],
   "source": [
    "copy = bp.copy()\n",
    "g = Network(notebook=True, cdn_resources='remote', select_menu=False)\n",
    "g.toggle_physics(False)\n",
    "# g.show_buttons(filter_=['physics'])\n",
    "g.from_nx(copy)\n",
    "g.show('network.html')\n",
    "\n",
    "\n",
    "with open(\"network.html\", \"r\") as f:\n",
    "    html_content = f.read()\n",
    "\n",
    "display(HTML(html_content))"
   ]
  },
  {
   "cell_type": "code",
   "execution_count": 58,
   "metadata": {
    "id": "h5eAbfMhsI02"
   },
   "outputs": [],
   "source": [
    "def get_shortest_path(graph, source, target, k=1, exclusions=[], weight='weight'):\n",
    "    \"\"\"\n",
    "    Compute the k-th shortest simple path between two nodes in the graph.\n",
    "\n",
    "    Args:\n",
    "        graph (networkx.Graph): The graph to search in.\n",
    "        source (str or int): The starting node.\n",
    "        target (str or int): The target node.\n",
    "        k (int, optional): The k-th shortest path to retrieve. Defaults to 1 (shortest path).\n",
    "        exclusions (list, optional): A list of nodes to exclude from the path. Defaults to an empty list.\n",
    "        weight (str, optional): The edge attribute to use as weight. Defaults to 'weight'.\n",
    "\n",
    "    Returns:\n",
    "        list or None: The k-th shortest path as a list of nodes, or None if no path exists.\n",
    "    \"\"\"\n",
    "    # Need to think if I should raise error here instead\n",
    "    # If k is less than or equal to 0, defaults to 1\n",
    "    if k <= 0:\n",
    "        k = 1\n",
    "\n",
    "    # Create a subgraph without excluded nodes\n",
    "    nodes = (node for node in graph.nodes if node not in exclusions)\n",
    "    subgraph = graph.subgraph(nodes)\n",
    "\n",
    "    # Find all shortest simple paths\n",
    "    paths = nx.shortest_simple_paths(subgraph, source, target, weight=weight)\n",
    "\n",
    "    # Instantiate k_shortest_path and count\n",
    "    k_shortest_path = None\n",
    "    count = 0\n",
    "\n",
    "    for path in paths:\n",
    "        k_shortest_path = path\n",
    "        count += 1\n",
    "        if count==k:\n",
    "            break\n",
    "\n",
    "    return k_shortest_path"
   ]
  },
  {
   "cell_type": "code",
   "execution_count": 59,
   "metadata": {
    "colab": {
     "base_uri": "https://localhost:8080/"
    },
    "id": "ybeSUuUrejCg",
    "outputId": "bc51d896-e4f9-4d4b-a026-4b713c0005f1"
   },
   "outputs": [
    {
     "data": {
      "text/plain": [
       "NodeView(('ufficio 1', 'ufficio 2', 'ufficio 3', 'ufficio 4', 'ufficio 5', 'ufficio 6', 'ufficio 7', 'ufficio 8', 'ufficio 9', 'ufficio 10', 'ufficio 11', 'ufficio 12', 'ufficio 13', 'ufficio 14', 'ufficio 15', 'ufficio 16', 'ufficio 17', 'ufficio 18', 'ufficio 19', 'ufficio 20', 'ufficio 21', 'ufficio 22', 'ufficio 23', 'ufficio 24', 'ufficio 25', 'ufficio 26', 'ufficio 27', 'laboratorio 1', 'laboratorio 2', 'laboratorio 3', 'laboratorio 4', 'laboratorio 5', 'laboratorio 6', 'laboratorio 7', 'laboratorio 8', 'laboratorio 9', 'laboratorio 10', 'hallway 1', 'hallway 2', 'hallway 3', 'hallway 4', 'hallway 5', 'hallway 6', 'hallway 7', 'hallway 8', 'hallway 9', 'hallway 10', 'hallway 11', 'hallway 12', 'hallway 13', 'hallway 14', 'hallway 15', 'hallway 16', 'hallway 17', 'hallway 18', 'hallway 19', 'hallway 20', 'hallway 21', 'hallway 22', 'hallway 23', 'hallway 24', 'hallway 25', 'hallway 26', 'hallway 27', 'hallway 28', 'hallway 29', 'hallway 30', 'hallway 31', 'hallway 32', 'aula 1', 'aula 2', 'wc 1', 'wc 2', 'unknown', 'elevator', 'sala riuniuni', 'aula multi mediale', 'tunnel'))"
      ]
     },
     "execution_count": 59,
     "metadata": {},
     "output_type": "execute_result"
    }
   ],
   "source": [
    "bp.nodes"
   ]
  },
  {
   "cell_type": "code",
   "execution_count": 60,
   "metadata": {
    "colab": {
     "base_uri": "https://localhost:8080/"
    },
    "id": "RnClh75kyHA2",
    "outputId": "f5d5f0f1-045c-431e-f765-59f4a28b2fcf"
   },
   "outputs": [
    {
     "name": "stdout",
     "output_type": "stream",
     "text": [
      "['ufficio 5', 'hallway 7', 'hallway 8', 'hallway 15', 'tunnel', 'hallway 24', 'hallway 23', 'hallway 22', 'ufficio 13']\n",
      "['ufficio 5', 'hallway 7', 'hallway 8', 'hallway 15', 'tunnel', 'hallway 24', 'hallway 23', 'ufficio 14', 'ufficio 13']\n",
      "['ufficio 5', 'ufficio 4', 'hallway 6', 'hallway 7', 'hallway 8', 'hallway 15', 'tunnel', 'hallway 24', 'hallway 23', 'hallway 22', 'ufficio 13']\n",
      "['ufficio 5', 'ufficio 4', 'hallway 6', 'hallway 7', 'hallway 8', 'hallway 15', 'tunnel', 'hallway 24', 'hallway 23', 'ufficio 14', 'ufficio 13']\n",
      "['ufficio 5', 'hallway 7', 'hallway 8', 'hallway 15', 'tunnel', 'hallway 24', 'hallway 23', 'ufficio 24', 'ufficio 23', 'hallway 22', 'ufficio 13']\n",
      "['ufficio 5', 'ufficio 4', 'hallway 6', 'hallway 7', 'hallway 8', 'hallway 15', 'tunnel', 'hallway 24', 'hallway 23', 'ufficio 24', 'ufficio 23', 'hallway 22', 'ufficio 13']\n",
      "['ufficio 5', 'hallway 7', 'hallway 6', 'hallway 5', 'hallway 4', 'hallway 3', 'hallway 2', 'hallway 1', 'hallway 16', 'hallway 17', 'hallway 18', 'hallway 19', 'hallway 20', 'hallway 21', 'hallway 22', 'ufficio 13']\n",
      "['ufficio 5', 'ufficio 4', 'hallway 6', 'hallway 5', 'hallway 4', 'hallway 3', 'hallway 2', 'hallway 1', 'hallway 16', 'hallway 17', 'hallway 18', 'hallway 19', 'hallway 20', 'hallway 21', 'hallway 22', 'ufficio 13']\n",
      "['ufficio 5', 'hallway 7', 'hallway 6', 'hallway 5', 'hallway 4', 'ufficio 2', 'aula 1', 'hallway 3', 'hallway 2', 'hallway 1', 'hallway 16', 'hallway 17', 'hallway 18', 'hallway 19', 'hallway 20', 'hallway 21', 'hallway 22', 'ufficio 13']\n",
      "['ufficio 5', 'hallway 7', 'hallway 6', 'hallway 5', 'hallway 4', 'hallway 3', 'hallway 2', 'hallway 1', 'hallway 16', 'hallway 17', 'hallway 18', 'hallway 19', 'aula 2', 'ufficio 11', 'hallway 20', 'hallway 21', 'hallway 22', 'ufficio 13']\n",
      "['ufficio 5', 'hallway 7', 'hallway 6', 'hallway 5', 'hallway 4', 'hallway 3', 'hallway 2', 'hallway 1', 'hallway 16', 'hallway 17', 'hallway 18', 'hallway 19', 'hallway 20', 'hallway 21', 'hallway 22', 'hallway 23', 'ufficio 14', 'ufficio 13']\n",
      "['ufficio 5', 'ufficio 4', 'hallway 6', 'hallway 5', 'hallway 4', 'ufficio 2', 'aula 1', 'hallway 3', 'hallway 2', 'hallway 1', 'hallway 16', 'hallway 17', 'hallway 18', 'hallway 19', 'hallway 20', 'hallway 21', 'hallway 22', 'ufficio 13']\n",
      "['ufficio 5', 'ufficio 4', 'hallway 6', 'hallway 5', 'hallway 4', 'hallway 3', 'hallway 2', 'hallway 1', 'hallway 16', 'hallway 17', 'hallway 18', 'hallway 19', 'aula 2', 'ufficio 11', 'hallway 20', 'hallway 21', 'hallway 22', 'ufficio 13']\n",
      "['ufficio 5', 'ufficio 4', 'hallway 6', 'hallway 5', 'hallway 4', 'hallway 3', 'hallway 2', 'hallway 1', 'hallway 16', 'hallway 17', 'hallway 18', 'hallway 19', 'hallway 20', 'hallway 21', 'hallway 22', 'hallway 23', 'ufficio 14', 'ufficio 13']\n",
      "['ufficio 5', 'hallway 7', 'hallway 6', 'hallway 5', 'hallway 4', 'ufficio 2', 'aula 1', 'hallway 3', 'hallway 2', 'hallway 1', 'hallway 16', 'hallway 17', 'hallway 18', 'hallway 19', 'aula 2', 'ufficio 11', 'hallway 20', 'hallway 21', 'hallway 22', 'ufficio 13']\n",
      "['ufficio 5', 'hallway 7', 'hallway 6', 'hallway 5', 'hallway 4', 'ufficio 2', 'aula 1', 'hallway 3', 'hallway 2', 'hallway 1', 'hallway 16', 'hallway 17', 'hallway 18', 'hallway 19', 'hallway 20', 'hallway 21', 'hallway 22', 'hallway 23', 'ufficio 14', 'ufficio 13']\n",
      "['ufficio 5', 'hallway 7', 'hallway 6', 'hallway 5', 'hallway 4', 'hallway 3', 'hallway 2', 'hallway 1', 'hallway 16', 'hallway 17', 'hallway 18', 'hallway 19', 'aula 2', 'ufficio 11', 'hallway 20', 'hallway 21', 'hallway 22', 'hallway 23', 'ufficio 14', 'ufficio 13']\n",
      "['ufficio 5', 'ufficio 4', 'hallway 6', 'hallway 5', 'hallway 4', 'ufficio 2', 'aula 1', 'hallway 3', 'hallway 2', 'hallway 1', 'hallway 16', 'hallway 17', 'hallway 18', 'hallway 19', 'aula 2', 'ufficio 11', 'hallway 20', 'hallway 21', 'hallway 22', 'ufficio 13']\n",
      "['ufficio 5', 'ufficio 4', 'hallway 6', 'hallway 5', 'hallway 4', 'ufficio 2', 'aula 1', 'hallway 3', 'hallway 2', 'hallway 1', 'hallway 16', 'hallway 17', 'hallway 18', 'hallway 19', 'hallway 20', 'hallway 21', 'hallway 22', 'hallway 23', 'ufficio 14', 'ufficio 13']\n",
      "['ufficio 5', 'ufficio 4', 'hallway 6', 'hallway 5', 'hallway 4', 'hallway 3', 'hallway 2', 'hallway 1', 'hallway 16', 'hallway 17', 'hallway 18', 'hallway 19', 'aula 2', 'ufficio 11', 'hallway 20', 'hallway 21', 'hallway 22', 'hallway 23', 'ufficio 14', 'ufficio 13']\n",
      "['ufficio 5', 'hallway 7', 'hallway 6', 'hallway 5', 'hallway 4', 'hallway 3', 'hallway 2', 'hallway 1', 'hallway 16', 'hallway 17', 'hallway 18', 'hallway 19', 'hallway 20', 'hallway 21', 'hallway 22', 'ufficio 23', 'ufficio 24', 'hallway 23', 'ufficio 14', 'ufficio 13']\n",
      "['ufficio 5', 'ufficio 4', 'hallway 6', 'hallway 5', 'hallway 4', 'hallway 3', 'hallway 2', 'hallway 1', 'hallway 16', 'hallway 17', 'hallway 18', 'hallway 19', 'hallway 20', 'hallway 21', 'hallway 22', 'ufficio 23', 'ufficio 24', 'hallway 23', 'ufficio 14', 'ufficio 13']\n",
      "['ufficio 5', 'hallway 7', 'hallway 6', 'hallway 5', 'hallway 4', 'ufficio 2', 'aula 1', 'hallway 3', 'hallway 2', 'hallway 1', 'hallway 16', 'hallway 17', 'hallway 18', 'hallway 19', 'aula 2', 'ufficio 11', 'hallway 20', 'hallway 21', 'hallway 22', 'hallway 23', 'ufficio 14', 'ufficio 13']\n",
      "['ufficio 5', 'ufficio 4', 'hallway 6', 'hallway 5', 'hallway 4', 'ufficio 2', 'aula 1', 'hallway 3', 'hallway 2', 'hallway 1', 'hallway 16', 'hallway 17', 'hallway 18', 'hallway 19', 'aula 2', 'ufficio 11', 'hallway 20', 'hallway 21', 'hallway 22', 'hallway 23', 'ufficio 14', 'ufficio 13']\n",
      "['ufficio 5', 'hallway 7', 'hallway 6', 'hallway 5', 'hallway 4', 'ufficio 2', 'aula 1', 'hallway 3', 'hallway 2', 'hallway 1', 'hallway 16', 'hallway 17', 'hallway 18', 'hallway 19', 'hallway 20', 'hallway 21', 'hallway 22', 'ufficio 23', 'ufficio 24', 'hallway 23', 'ufficio 14', 'ufficio 13']\n",
      "['ufficio 5', 'hallway 7', 'hallway 6', 'hallway 5', 'hallway 4', 'hallway 3', 'hallway 2', 'hallway 1', 'hallway 16', 'hallway 17', 'hallway 18', 'hallway 19', 'aula 2', 'ufficio 11', 'hallway 20', 'hallway 21', 'hallway 22', 'ufficio 23', 'ufficio 24', 'hallway 23', 'ufficio 14', 'ufficio 13']\n",
      "['ufficio 5', 'ufficio 4', 'hallway 6', 'hallway 5', 'hallway 4', 'ufficio 2', 'aula 1', 'hallway 3', 'hallway 2', 'hallway 1', 'hallway 16', 'hallway 17', 'hallway 18', 'hallway 19', 'hallway 20', 'hallway 21', 'hallway 22', 'ufficio 23', 'ufficio 24', 'hallway 23', 'ufficio 14', 'ufficio 13']\n",
      "['ufficio 5', 'ufficio 4', 'hallway 6', 'hallway 5', 'hallway 4', 'hallway 3', 'hallway 2', 'hallway 1', 'hallway 16', 'hallway 17', 'hallway 18', 'hallway 19', 'aula 2', 'ufficio 11', 'hallway 20', 'hallway 21', 'hallway 22', 'ufficio 23', 'ufficio 24', 'hallway 23', 'ufficio 14', 'ufficio 13']\n",
      "['ufficio 5', 'hallway 7', 'hallway 6', 'hallway 5', 'hallway 4', 'ufficio 2', 'aula 1', 'hallway 3', 'hallway 2', 'hallway 1', 'hallway 16', 'hallway 17', 'hallway 18', 'hallway 19', 'aula 2', 'ufficio 11', 'hallway 20', 'hallway 21', 'hallway 22', 'ufficio 23', 'ufficio 24', 'hallway 23', 'ufficio 14', 'ufficio 13']\n",
      "['ufficio 5', 'ufficio 4', 'hallway 6', 'hallway 5', 'hallway 4', 'ufficio 2', 'aula 1', 'hallway 3', 'hallway 2', 'hallway 1', 'hallway 16', 'hallway 17', 'hallway 18', 'hallway 19', 'aula 2', 'ufficio 11', 'hallway 20', 'hallway 21', 'hallway 22', 'ufficio 23', 'ufficio 24', 'hallway 23', 'ufficio 14', 'ufficio 13']\n"
     ]
    }
   ],
   "source": [
    "paths = nx.shortest_simple_paths(bp, 'ufficio 5', 'ufficio 13', weight='weight')\n",
    "\n",
    "for path in paths:\n",
    "    print(path)"
   ]
  },
  {
   "cell_type": "code",
   "execution_count": 61,
   "metadata": {
    "colab": {
     "base_uri": "https://localhost:8080/"
    },
    "id": "nIBKpa81phtE",
    "outputId": "8f70353d-9f78-48b4-ab9e-ce88f52cfe3b"
   },
   "outputs": [
    {
     "name": "stdout",
     "output_type": "stream",
     "text": [
      "['ufficio 5', 'hallway 7', 'hallway 8', 'hallway 15', 'tunnel', 'hallway 24', 'hallway 23', 'hallway 22', 'ufficio 13']\n"
     ]
    }
   ],
   "source": [
    "path = get_shortest_path(bp, 'ufficio 5', 'ufficio 13', exclusions=[], k=1)\n",
    "print(path)"
   ]
  },
  {
   "cell_type": "code",
   "execution_count": null,
   "metadata": {
    "colab": {
     "base_uri": "https://localhost:8080/"
    },
    "id": "9pJmFPRByHFV",
    "outputId": "53377323-45cb-41c4-b13e-0220eff7b6cf"
   },
   "outputs": [
    {
     "name": "stdout",
     "output_type": "stream",
     "text": [
      "['ufficio 5', 'hallway 7', 'hallway 8', 'hallway 15', 'tunnel', 'hallway 24', 'hallway 23', 'hallway 22', 'ufficio 13']\n"
     ]
    }
   ],
   "source": [
    "path = get_shortest_path(bp, 'ufficio 5', 'ufficio 13', exclusions=[], k=1)\n",
    "print(path)"
   ]
  },
  {
   "cell_type": "code",
   "execution_count": 62,
   "metadata": {
    "colab": {
     "base_uri": "https://localhost:8080/"
    },
    "id": "1t4crgpassOE",
    "outputId": "460f7feb-0e72-4c9f-f8f8-481a9b36b311"
   },
   "outputs": [
    {
     "name": "stdout",
     "output_type": "stream",
     "text": [
      "['ufficio 5', 'hallway 7', 'hallway 8', 'hallway 15', 'tunnel', 'hallway 24', 'hallway 23', 'hallway 22', 'ufficio 13']\n"
     ]
    }
   ],
   "source": [
    "print(path)\n"
   ]
  },
  {
   "cell_type": "code",
   "execution_count": 63,
   "metadata": {
    "id": "7PxDrjdarcoR"
   },
   "outputs": [],
   "source": [
    "def get_path_distance(graph, path):\n",
    "    \"\"\"\n",
    "    Calculate the total distance of a given path based on edge weights.\n",
    "\n",
    "    Args:\n",
    "        graph (networkx.Graph): The graph containing the edges.\n",
    "        path (list): A list of nodes representing the path.\n",
    "\n",
    "    Returns:\n",
    "        float: The total distance of the path.\n",
    "    \"\"\"\n",
    "    total_distance = 0\n",
    "\n",
    "    for i in range(len(path)-1):\n",
    "        start = path[i]\n",
    "        end = path[i+1]\n",
    "\n",
    "        total_distance += graph[start][end]['weight']\n",
    "\n",
    "    return total_distance"
   ]
  },
  {
   "cell_type": "code",
   "execution_count": null,
   "metadata": {},
   "outputs": [],
   "source": [
    "get_path_distance(bp, path)"
   ]
  },
  {
   "cell_type": "code",
   "execution_count": 64,
   "metadata": {
    "colab": {
     "base_uri": "https://localhost:8080/"
    },
    "id": "d32UXTPksMLd",
    "outputId": "23ce3382-dcc8-4d40-8831-0a33b371881d"
   },
   "outputs": [
    {
     "data": {
      "text/plain": [
       "AtlasView({'hallway 7': {'weight': 1.0, 'label': '1.0'}, 'ufficio 4': {'weight': 1.0, 'label': '1.0'}})"
      ]
     },
     "execution_count": 64,
     "metadata": {},
     "output_type": "execute_result"
    }
   ],
   "source": [
    "bp['ufficio 5']"
   ]
  },
  {
   "cell_type": "code",
   "execution_count": null,
   "metadata": {},
   "outputs": [],
   "source": []
  }
 ],
 "metadata": {
  "colab": {
   "provenance": []
  },
  "kernelspec": {
   "display_name": "Python 3 (ipykernel)",
   "language": "python",
   "name": "python3"
  },
  "language_info": {
   "codemirror_mode": {
    "name": "ipython",
    "version": 3
   },
   "file_extension": ".py",
   "mimetype": "text/x-python",
   "name": "python",
   "nbconvert_exporter": "python",
   "pygments_lexer": "ipython3",
   "version": "3.12.5"
  }
 },
 "nbformat": 4,
 "nbformat_minor": 4
}
